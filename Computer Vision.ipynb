{
 "cells": [
  {
   "cell_type": "code",
   "execution_count": null,
   "id": "bb457669-58ba-4c02-b713-397cf045d45f",
   "metadata": {},
   "outputs": [],
   "source": [
    "import cv2\n",
    "\n",
    "img = cv2.imread(r\"A:\\RWU\\First Sem\\CV\\CV_Lehren\\albert-einstein_gray.jpg\")\n",
    "\n",
    "print(img.shape)\n",
    "\n",
    "#Displaying the image:\n",
    "cv2.imshow(\"Albert Einstein\",img)\n",
    "\n",
    "cv2.waitKey(0)\n",
    "cv2.destroyAllWindows()"
   ]
  },
  {
   "cell_type": "code",
   "execution_count": null,
   "id": "a002e1a7-f882-4475-a915-7030f1415931",
   "metadata": {},
   "outputs": [],
   "source": []
  }
 ],
 "metadata": {
  "kernelspec": {
   "display_name": "Python 3 (ipykernel)",
   "language": "python",
   "name": "python3"
  },
  "language_info": {
   "codemirror_mode": {
    "name": "ipython",
    "version": 3
   },
   "file_extension": ".py",
   "mimetype": "text/x-python",
   "name": "python",
   "nbconvert_exporter": "python",
   "pygments_lexer": "ipython3",
   "version": "3.12.4"
  }
 },
 "nbformat": 4,
 "nbformat_minor": 5
}
