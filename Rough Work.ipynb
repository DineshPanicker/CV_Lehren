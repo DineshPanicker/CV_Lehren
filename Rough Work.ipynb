{
 "cells": [
  {
   "cell_type": "code",
   "execution_count": 1,
   "id": "983e3c0c-aa8b-41cb-a45c-f9c1c95ebd46",
   "metadata": {},
   "outputs": [],
   "source": [
    "num = 12\n",
    "name = 'Sam'"
   ]
  },
  {
   "cell_type": "code",
   "execution_count": 5,
   "id": "bc0380a6-457e-413f-9f1e-6d722ba0a8ea",
   "metadata": {},
   "outputs": [
    {
     "name": "stdout",
     "output_type": "stream",
     "text": [
      "My number is 12 and my name is Sam\n"
     ]
    }
   ],
   "source": [
    "print('My number is {one} and my name is {two}'.format(one=num,two=name))"
   ]
  },
  {
   "cell_type": "markdown",
   "id": "649aa14e-13d0-4129-ab8c-1ac73ba572af",
   "metadata": {},
   "source": [
    "Convolution of images with a mean kernel"
   ]
  },
  {
   "cell_type": "code",
   "execution_count": null,
   "id": "52ce244c-f391-4ed6-86b4-f4fbc6798dc9",
   "metadata": {},
   "outputs": [],
   "source": [
    "import cv2\n",
    "import numpy as np\n",
    "\n",
    "def manual_convolution(image, kernel):\n",
    "    # Get the size of the kernel\n",
    "    n = kernel.shape[0]\n",
    "    m = (n + 1) // 2\n",
    "\n",
    "    # Get the dimensions of the image\n",
    "    rows, cols = image.shape\n",
    "\n",
    "    # Initialize an output image\n",
    "    output = np.zeros_like(image, dtype=np.float32)\n",
    "\n",
    "    # Pad the image to handle borders\n",
    "    padded_image = np.pad(image, pad_width=m-1, mode='constant', constant_values=0)\n",
    "\n",
    "    # Perform the convolution\n",
    "    for x in range(rows):\n",
    "        for y in range(cols):\n",
    "            # Compute the sum over the kernel and the corresponding image patch\n",
    "            value = 0\n",
    "            for i in range(1, n+1):\n",
    "                for j in range(1, n+1):\n",
    "                    value += padded_image[x + i - m, y + j - m] * kernel[i-1, j-1]\n",
    "            output[x, y] = value\n",
    "\n",
    "    # Clip the values to be in the valid range for images\n",
    "    output = np.clip(output, 0, 255).astype(np.uint8)\n",
    "    return output\n",
    "\n",
    "# Example usage\n",
    "if __name__ == \"__main__\":\n",
    "    # Load a grayscale image\n",
    "    image = cv2.imread(r\"A:\\RWU\\First Sem\\CV\\CV_Lehren\\albert-einstein_gray.jpg\", cv2.IMREAD_GRAYSCALE)\n",
    "\n",
    "    if image is None:\n",
    "        print(\"Error: Image file not found.\")\n",
    "    else:\n",
    "        # Define a 3x3 mean kernel\n",
    "        kernel = np.ones((3, 5), dtype=np.float32) / \n",
    "\n",
    "        # Apply the convolution\n",
    "        result = manual_convolution(image, kernel)\n",
    "        \n",
    "\n",
    "        # Display the results\n",
    "        cv2.imshow(\"Original Image\", image)\n",
    "        cv2.imshow(\"Convoluted Image\", result)\n",
    "        cv2.waitKey(0)\n",
    "        cv2.destroyAllWindows()\n"
   ]
  },
  {
   "cell_type": "code",
   "execution_count": null,
   "id": "bedf6803-dec7-46b8-a418-bce8769710c7",
   "metadata": {},
   "outputs": [],
   "source": []
  }
 ],
 "metadata": {
  "kernelspec": {
   "display_name": "Python 3 (ipykernel)",
   "language": "python",
   "name": "python3"
  },
  "language_info": {
   "codemirror_mode": {
    "name": "ipython",
    "version": 3
   },
   "file_extension": ".py",
   "mimetype": "text/x-python",
   "name": "python",
   "nbconvert_exporter": "python",
   "pygments_lexer": "ipython3",
   "version": "3.12.4"
  }
 },
 "nbformat": 4,
 "nbformat_minor": 5
}
